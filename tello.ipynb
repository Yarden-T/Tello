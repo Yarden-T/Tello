{
 "cells": [
  {
   "cell_type": "code",
   "execution_count": 2,
   "metadata": {},
   "outputs": [
    {
     "name": "stderr",
     "output_type": "stream",
     "text": [
      "[INFO] tello.py - 122 - Tello instance was initialized. Host: '192.168.10.1'. Port: '8889'.\n",
      "[INFO] tello.py - 437 - Send command: 'command'\n",
      "[INFO] tello.py - 461 - Response command: 'ok'\n"
     ]
    },
    {
     "name": "stdout",
     "output_type": "stream",
     "text": [
      "Battery: 37\n"
     ]
    }
   ],
   "source": [
    "from djitellopy import tello\n",
    "import cv2\n",
    "from time import sleep\n",
    "\n",
    "drone = tello.Tello()\n",
    "drone.connect()\n",
    "print(\"Battery:\", drone.get_battery())\n"
   ]
  },
  {
   "cell_type": "code",
   "execution_count": 3,
   "metadata": {},
   "outputs": [
    {
     "name": "stderr",
     "output_type": "stream",
     "text": [
      "[INFO] tello.py - 437 - Send command: 'streamon'\n",
      "[INFO] tello.py - 461 - Response streamon: 'ok'\n",
      "[INFO] tello.py - 437 - Send command: 'takeoff'\n",
      "[INFO] tello.py - 461 - Response takeoff: 'ok'\n",
      "[INFO] tello.py - 470 - Send command (no response expected): 'rc 0 50 0 0'\n",
      "[INFO] tello.py - 470 - Send command (no response expected): 'rc 0 0 0 100'\n",
      "[INFO] tello.py - 470 - Send command (no response expected): 'rc 0 50 0 0'\n"
     ]
    },
    {
     "ename": "KeyboardInterrupt",
     "evalue": "",
     "output_type": "error",
     "traceback": [
      "\u001b[1;31m---------------------------------------------------------------------------\u001b[0m",
      "\u001b[1;31mKeyboardInterrupt\u001b[0m                         Traceback (most recent call last)",
      "\u001b[1;32mc:\\Users\\yarde\\Desktop\\Yarden\\VS Code\\tello.ipynb Cell 2\u001b[0m in \u001b[0;36m<cell line: 3>\u001b[1;34m()\u001b[0m\n\u001b[0;32m     <a href='vscode-notebook-cell:/c%3A/Users/yarde/Desktop/Yarden/VS%20Code/tello.ipynb#W1sZmlsZQ%3D%3D?line=11'>12</a>\u001b[0m sleep(\u001b[39m2\u001b[39m)\n\u001b[0;32m     <a href='vscode-notebook-cell:/c%3A/Users/yarde/Desktop/Yarden/VS%20Code/tello.ipynb#W1sZmlsZQ%3D%3D?line=12'>13</a>\u001b[0m drone\u001b[39m.\u001b[39msend_rc_control(\u001b[39m0\u001b[39m,\u001b[39m50\u001b[39m,\u001b[39m0\u001b[39m,\u001b[39m0\u001b[39m)\n\u001b[1;32m---> <a href='vscode-notebook-cell:/c%3A/Users/yarde/Desktop/Yarden/VS%20Code/tello.ipynb#W1sZmlsZQ%3D%3D?line=13'>14</a>\u001b[0m sleep(\u001b[39m2\u001b[39;49m)\n\u001b[0;32m     <a href='vscode-notebook-cell:/c%3A/Users/yarde/Desktop/Yarden/VS%20Code/tello.ipynb#W1sZmlsZQ%3D%3D?line=14'>15</a>\u001b[0m drone\u001b[39m.\u001b[39msend_rc_control(\u001b[39m0\u001b[39m,\u001b[39m0\u001b[39m,\u001b[39m0\u001b[39m,\u001b[39m0\u001b[39m)\n\u001b[0;32m     <a href='vscode-notebook-cell:/c%3A/Users/yarde/Desktop/Yarden/VS%20Code/tello.ipynb#W1sZmlsZQ%3D%3D?line=15'>16</a>\u001b[0m drone\u001b[39m.\u001b[39mland()\n",
      "\u001b[1;31mKeyboardInterrupt\u001b[0m: "
     ]
    },
    {
     "ename": "",
     "evalue": "",
     "output_type": "error",
     "traceback": [
      "The Kernel crashed while executing code in the the current cell or a previous cell. Please review the code in the cell(s) to identify a possible cause of the failure. Click <a href='https://aka.ms/vscodeJupyterKernelCrash'>here</a> for more info. View Jupyter <a href='command:jupyter.viewOutput'>log</a> for further details."
     ]
    }
   ],
   "source": [
    "\n",
    "drone.streamon()\n",
    "\n",
    "while True:\n",
    "    img = drone.get_frame_read().frame\n",
    "    img = cv2.resize(img, (360,240))\n",
    "    cv2.imshow(\"image\", img)\n",
    "    cv2.waitKey(1)\n",
    "\n",
    "\n",
    "\n"
   ]
  },
  {
   "cell_type": "code",
   "execution_count": 8,
   "metadata": {},
   "outputs": [
    {
     "name": "stderr",
     "output_type": "stream",
     "text": [
      "[INFO] tello.py - 437 - Send command: 'takeoff'\n",
      "[INFO] tello.py - 461 - Response takeoff: 'ok'\n",
      "[INFO] tello.py - 470 - Send command (no response expected): 'rc 0 50 0 0'\n",
      "[INFO] tello.py - 470 - Send command (no response expected): 'rc 0 0 0 100'\n",
      "[INFO] tello.py - 470 - Send command (no response expected): 'rc 0 50 0 0'\n",
      "[INFO] tello.py - 470 - Send command (no response expected): 'rc 0 0 0 0'\n",
      "[INFO] tello.py - 437 - Send command: 'land'\n",
      "[INFO] tello.py - 461 - Response land: 'ok'\n"
     ]
    }
   ],
   "source": [
    "#move\n",
    "\n",
    "drone.takeoff()\n",
    "drone.send_rc_control(0,50,0,0)\n",
    "sleep(2)\n",
    "drone.send_rc_control(0,0,0,100)\n",
    "sleep(2)\n",
    "drone.send_rc_control(0,50,0,0)\n",
    "sleep(2)\n",
    "drone.send_rc_control(0,0,0,0)\n",
    "drone.land()"
   ]
  }
 ],
 "metadata": {
  "kernelspec": {
   "display_name": "Python 3.10.6 64-bit (windows store)",
   "language": "python",
   "name": "python3"
  },
  "language_info": {
   "codemirror_mode": {
    "name": "ipython",
    "version": 3
   },
   "file_extension": ".py",
   "mimetype": "text/x-python",
   "name": "python",
   "nbconvert_exporter": "python",
   "pygments_lexer": "ipython3",
   "version": "3.10.6"
  },
  "orig_nbformat": 4,
  "vscode": {
   "interpreter": {
    "hash": "d350b22296d7d210a66b1735839d7f8b5a40197de68219838990692f7c582ebc"
   }
  }
 },
 "nbformat": 4,
 "nbformat_minor": 2
}
